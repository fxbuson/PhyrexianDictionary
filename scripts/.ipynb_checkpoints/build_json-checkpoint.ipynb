{
 "cells": [
  {
   "cell_type": "code",
   "execution_count": 1,
   "id": "0c825761",
   "metadata": {},
   "outputs": [],
   "source": [
    "import pandas as pd\n",
    "import json\n",
    "import regex as re"
   ]
  },
  {
   "cell_type": "code",
   "execution_count": 2,
   "id": "0bee1354",
   "metadata": {},
   "outputs": [],
   "source": [
    "conversions = pd.read_excel('../data/conversions.xlsx')\n",
    "conversions"
   ]
  },
  {
   "cell_type": "code",
   "execution_count": 3,
   "id": "8bdf9d40",
   "metadata": {},
   "outputs": [],
   "source": [
    "words = pd.read_csv('../data/phrx_words.csv', encoding='utf-8')\n",
    "words"
   ]
  },
  {
   "cell_type": "code",
   "execution_count": 4,
   "id": "b0deaa05",
   "metadata": {},
   "outputs": [],
   "source": [
    "words['root'].to_list()\n",
    "new_root = []\n",
    "for roots in words['root']:\n",
    "    if pd.isna(roots):\n",
    "        new_root.append(float('nan'))\n",
    "    elif roots:\n",
    "        new_root.append(roots.split(','))\n",
    "    else:\n",
    "        new_root.append(roots)\n",
    "new_root"
   ]
  },
  {
   "cell_type": "code",
   "execution_count": 5,
   "id": "2919b97a",
   "metadata": {},
   "outputs": [],
   "source": [
    "words['root'] = new_root\n",
    "words"
   ]
  },
  {
   "cell_type": "code",
   "execution_count": 6,
   "id": "1d61c966",
   "metadata": {},
   "outputs": [],
   "source": [
    "raw = pd.read_csv('../data/phrx_raw.tsv', sep='\\t')\n",
    "raw"
   ]
  },
  {
   "cell_type": "code",
   "execution_count": 7,
   "id": "46c6d6fa",
   "metadata": {},
   "outputs": [],
   "source": [
    "def parse_translit(raw:str):\n",
    "    parsed = [char for char in raw]\n",
    "    char_i = 0\n",
    "    while char_i < len(parsed):\n",
    "        if parsed[char_i] in [\"-\", \"+\"]:\n",
    "            parsed[char_i] = parsed[char_i] + parsed[char_i+1]\n",
    "            del parsed[char_i+1]\n",
    "            char_i -= 1\n",
    "        if parsed[char_i] in [\"e\", \"w\", \"v\", \"r\", \"d\", \"q\", \"x\", \"y\"]:\n",
    "            parsed[char_i-1] = parsed[char_i-1] + parsed[char_i]\n",
    "            del parsed[char_i]\n",
    "            char_i -= 1\n",
    "        char_i += 1\n",
    "    return parsed\n",
    "\n",
    "def translit_to_font(letters:list, conversion_sheet:dict):\n",
    "    result = ''\n",
    "    for char in letters:\n",
    "        if char in conversion_sheet.keys():\n",
    "            result = result + conversion_sheet[char]\n",
    "        else:\n",
    "            result = result + char\n",
    "    return result"
   ]
  },
  {
   "cell_type": "code",
   "execution_count": 8,
   "id": "367f1a0a",
   "metadata": {},
   "outputs": [],
   "source": [
    "wiz_conv = {}\n",
    "for idx in conversions.index:\n",
    "    wiz_conv[conversions.loc[idx, 'Transliteration']] = conversions.loc[idx, 'Regular']\n",
    "wiz_conv['\\\\'] = '^'\n",
    "wiz_conv['|'] = '-'"
   ]
  },
  {
   "cell_type": "code",
   "execution_count": 9,
   "id": "431e6379",
   "metadata": {},
   "outputs": [],
   "source": [
    "wiz_list = []\n",
    "for idx in raw.index:\n",
    "    wiz_list.append(translit_to_font(parse_translit(raw.loc[idx, 'Text']), wiz_conv))"
   ]
  },
  {
   "cell_type": "code",
   "execution_count": 10,
   "id": "785e0bab",
   "metadata": {},
   "outputs": [],
   "source": [
    "raw['Regular'] = wiz_list\n",
    "raw"
   ]
  },
  {
   "cell_type": "code",
   "execution_count": 11,
   "id": "f6132663",
   "metadata": {},
   "outputs": [],
   "source": [
    "raw = raw.drop(columns=['Text'])"
   ]
  },
  {
   "cell_type": "code",
   "execution_count": 12,
   "id": "b9b4d9cc",
   "metadata": {},
   "outputs": [],
   "source": [
    "vowels = 'aeiouyøɒə'\n",
    "vowels_re = '[aeiouyøɒə]*'\n",
    "roots = words[words['type'].isin(['root', 'name', 'unclear'])]['phyrexian'].tolist()\n",
    "composites = words.query('type == \"composite\"')['phyrexian'].to_list()\n",
    "moods = words.query('type == \"marker\"')['phyrexian'].to_list()"
   ]
  },
  {
   "cell_type": "code",
   "execution_count": 13,
   "id": "c814f488",
   "metadata": {},
   "outputs": [],
   "source": [
    "def unvowel(query):\n",
    "    new = query\n",
    "    for vow in vowels:\n",
    "        new = new.replace(vow, '')\n",
    "    return new"
   ]
  },
  {
   "cell_type": "code",
   "execution_count": 14,
   "id": "bcd4e104",
   "metadata": {},
   "outputs": [],
   "source": [
    "def raw_split(raw_sample):\n",
    "    return re.split('\\.\\^|\\-|\\ |\\:', raw_sample.rstrip('.').lstrip('^'))"
   ]
  },
  {
   "cell_type": "code",
   "execution_count": 15,
   "id": "d40fd79e",
   "metadata": {},
   "outputs": [],
   "source": [
    "def unroot_raw(raw_thing):\n",
    "    result = []\n",
    "    raw_split = re.split('\\.\\^|\\-|\\ |\\:', raw_thing)\n",
    "    for word in raw_split:\n",
    "        un_word = unvowel(word)\n",
    "        matches = []\n",
    "        for root in roots:\n",
    "            un_root = unvowel(root)\n",
    "            if un_root in un_word:\n",
    "                matches.append(un_root)\n",
    "        stripped = word\n",
    "        for match in matches:\n",
    "            if stripped != '':\n",
    "                stripped = stripped.replace(re.search(vowels_re.join(match), stripped).string, '')\n",
    "        if stripped != '':\n",
    "            result.append(stripped)\n",
    "    return result"
   ]
  },
  {
   "cell_type": "code",
   "execution_count": 16,
   "id": "bf10c240",
   "metadata": {},
   "outputs": [],
   "source": [
    "all_matches = []\n",
    "for idx in words.index:\n",
    "    matches = []\n",
    "\n",
    "    for raw_idx in raw.index:\n",
    "        name = raw.loc[raw_idx, 'Name']\n",
    "        raw_listed = raw_split(raw.loc[raw_idx, 'Regular'])\n",
    "        for word in raw_listed:\n",
    "            match words.loc[idx, 'type']:\n",
    "                case 'root' | 'composite' | 'unclear':\n",
    "                    if re.search(vowels_re.join(words.loc[idx, 'phyrexian']), word):\n",
    "                        if name not in matches:\n",
    "                            matches.append(name)\n",
    "                case 'name' | 'number':\n",
    "                    if words.loc[idx, 'phyrexian'] in word:\n",
    "                        if name not in matches:\n",
    "                            matches.append(name)\n",
    "                case 'marker':\n",
    "                    if words.loc[idx, 'phyrexian'] in word:\n",
    "                        if word.replace(words.loc[idx, 'phyrexian'], '') in moods + ['']:\n",
    "                            if name not in matches:\n",
    "                                matches.append(name)\n",
    "    all_matches.append(matches)"
   ]
  },
  {
   "cell_type": "code",
   "execution_count": 17,
   "id": "df80f5fd",
   "metadata": {},
   "outputs": [],
   "source": [
    "all_matches"
   ]
  },
  {
   "cell_type": "code",
   "execution_count": 18,
   "id": "4c6533fe",
   "metadata": {},
   "outputs": [],
   "source": [
    "words['examples'] = all_matches"
   ]
  },
  {
   "cell_type": "code",
   "execution_count": 19,
   "id": "30c5a36f",
   "metadata": {},
   "outputs": [],
   "source": [
    "final = {}\n",
    "final['dictionary'] = words.to_dict(orient='index')\n",
    "final['samples'] = raw.to_dict(orient='index')\n",
    "final_json = json.dumps(final, indent = 4, ensure_ascii=False).replace('NaN', 'null')"
   ]
  },
  {
   "cell_type": "code",
   "execution_count": 20,
   "id": "0430f350",
   "metadata": {},
   "outputs": [],
   "source": [
    "out = open('../PhyrexianAPI', 'w', encoding='utf-8')\n",
    "out.write(final_json)\n",
    "out.close()"
   ]
  },
  {
   "cell_type": "code",
   "execution_count": null,
   "id": "7c09dace",
   "metadata": {},
   "outputs": [],
   "source": []
  },
  {
   "cell_type": "code",
   "execution_count": null,
   "id": "934f2124",
   "metadata": {},
   "outputs": [],
   "source": []
  }
 ],
 "metadata": {
  "kernelspec": {
   "display_name": "Python 3 (ipykernel)",
   "language": "python",
   "name": "python3"
  },
  "language_info": {
   "codemirror_mode": {
    "name": "ipython",
    "version": 3
   },
   "file_extension": ".py",
   "mimetype": "text/x-python",
   "name": "python",
   "nbconvert_exporter": "python",
   "pygments_lexer": "ipython3",
   "version": "3.11.3"
  }
 },
 "nbformat": 4,
 "nbformat_minor": 5
}
